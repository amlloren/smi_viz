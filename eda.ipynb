{
 "cells": [
  {
   "cell_type": "markdown",
   "id": "abf35e45",
   "metadata": {},
   "source": [
    "# Understanding the Raw Data"
   ]
  },
  {
   "cell_type": "markdown",
   "id": "cd005d72",
   "metadata": {},
   "source": [
    "There are three social media platforms within this database - Instagram, TikTok and YouTube.\n"
   ]
  }
 ],
 "metadata": {
  "kernelspec": {
   "display_name": "dsi_participant",
   "language": "python",
   "name": "python3"
  },
  "language_info": {
   "name": "python",
   "version": "3.9.18"
  }
 },
 "nbformat": 4,
 "nbformat_minor": 5
}
